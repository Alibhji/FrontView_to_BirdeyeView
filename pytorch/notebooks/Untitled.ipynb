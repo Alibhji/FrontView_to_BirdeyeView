{
 "cells": [
  {
   "cell_type": "code",
   "execution_count": 8,
   "metadata": {},
   "outputs": [],
   "source": [
    "# get data set list\n",
    "import os\n",
    "dataset_root = '../data'\n",
    "\n",
    "root_train = os.path.join(dataset_root , 'train')\n",
    "root_val   = os.path.join(dataset_root , 'val'  )\n",
    "root_test  = os.path.join(dataset_root , 'test' )\n",
    "\n",
    "\n",
    "train_list = [os.path.join(root_train,itm) for itm in os.listdir(root_train) if os.path.isdir(os.path.join(root_train,itm))]\n",
    "val_list   = [os.path.join(root_val,itm) for itm in os.listdir(root_val) if os.path.isdir(os.path.join(root_val,itm))]"
   ]
  },
  {
   "cell_type": "code",
   "execution_count": 9,
   "metadata": {},
   "outputs": [
    {
     "data": {
      "text/plain": [
       "['../data/val/011',\n",
       " '../data/val/000',\n",
       " '../data/val/010',\n",
       " '../data/val/008',\n",
       " '../data/val/043',\n",
       " '../data/val/005',\n",
       " '../data/val/007',\n",
       " '../data/val/006',\n",
       " '../data/val/030',\n",
       " '../data/val/026',\n",
       " '../data/val/038',\n",
       " '../data/val/002',\n",
       " '../data/val/003',\n",
       " '../data/val/036',\n",
       " '../data/val/001',\n",
       " '../data/val/009',\n",
       " '../data/val/034',\n",
       " '../data/val/047',\n",
       " '../data/val/004',\n",
       " '../data/val/012',\n",
       " '../data/val/048',\n",
       " '../data/val/031']"
      ]
     },
     "execution_count": 9,
     "metadata": {},
     "output_type": "execute_result"
    }
   ],
   "source": [
    "val_list"
   ]
  }
 ],
 "metadata": {
  "kernelspec": {
   "display_name": "alipy37",
   "language": "python",
   "name": "alipy37"
  },
  "language_info": {
   "codemirror_mode": {
    "name": "ipython",
    "version": 3
   },
   "file_extension": ".py",
   "mimetype": "text/x-python",
   "name": "python",
   "nbconvert_exporter": "python",
   "pygments_lexer": "ipython3",
   "version": "3.7.6"
  }
 },
 "nbformat": 4,
 "nbformat_minor": 4
}
