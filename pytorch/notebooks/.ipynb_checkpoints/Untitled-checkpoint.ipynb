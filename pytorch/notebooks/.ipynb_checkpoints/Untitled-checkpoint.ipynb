{
 "cells": [
  {
   "cell_type": "code",
   "execution_count": 1,
   "metadata": {},
   "outputs": [],
   "source": [
    "# get data set list\n",
    "import os\n",
    "dataset_root = './data'\n",
    "\n",
    "root_train = os.path.join(dataset_root , 'train')\n",
    "root_val   = os.path.join(dataset_root , 'val'  )\n",
    "root_test  = os.path.join(dataset_root , 'test' )\n",
    "\n",
    "\n"
   ]
  }
 ],
 "metadata": {
  "kernelspec": {
   "display_name": "alipy37",
   "language": "python",
   "name": "alipy37"
  },
  "language_info": {
   "codemirror_mode": {
    "name": "ipython",
    "version": 3
   },
   "file_extension": ".py",
   "mimetype": "text/x-python",
   "name": "python",
   "nbconvert_exporter": "python",
   "pygments_lexer": "ipython3",
   "version": "3.7.6"
  }
 },
 "nbformat": 4,
 "nbformat_minor": 4
}
