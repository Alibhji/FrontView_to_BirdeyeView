{
 "cells": [
  {
   "cell_type": "code",
   "execution_count": 1,
   "metadata": {},
   "outputs": [],
   "source": [
    "# imports\n",
    "\n",
    "#https://pytorch.org/tutorials/intermediate/tensorboard_tutorial.html\n",
    "\n",
    "import matplotlib.pyplot as plt\n",
    "import numpy as np\n",
    "\n",
    "import torch\n",
    "import torchvision\n",
    "import torchvision.transforms as transforms\n",
    "\n",
    "import torch.nn as nn\n",
    "import torch.nn.functional as F\n",
    "import torch.optim as optim\n",
    "\n",
    "# transforms\n",
    "transform = transforms.Compose(\n",
    "    [transforms.ToTensor(),\n",
    "    transforms.Normalize((0.5,), (0.5,))])\n",
    "\n",
    "# datasets\n",
    "trainset = torchvision.datasets.FashionMNIST('./data',\n",
    "    download=True,\n",
    "    train=True,\n",
    "    transform=transform)\n",
    "testset = torchvision.datasets.FashionMNIST('./data',\n",
    "    download=True,\n",
    "    train=False,\n",
    "    transform=transform)\n",
    "\n",
    "# dataloaders\n",
    "trainloader = torch.utils.data.DataLoader(trainset, batch_size=4,\n",
    "                                        shuffle=True, num_workers=2)\n",
    "\n",
    "\n",
    "testloader = torch.utils.data.DataLoader(testset, batch_size=4,\n",
    "                                        shuffle=False, num_workers=2)\n",
    "\n",
    "# constant for classes\n",
    "classes = ('T-shirt/top', 'Trouser', 'Pullover', 'Dress', 'Coat',\n",
    "        'Sandal', 'Shirt', 'Sneaker', 'Bag', 'Ankle Boot')\n",
    "\n",
    "# helper function to show an image\n",
    "# (used in the `plot_classes_preds` function below)\n",
    "def matplotlib_imshow(img, one_channel=False):\n",
    "    if one_channel:\n",
    "        img = img.mean(dim=0)\n",
    "    img = img / 2 + 0.5     # unnormalize\n",
    "    npimg = img.numpy()\n",
    "    if one_channel:\n",
    "        plt.imshow(npimg, cmap=\"Greys\")\n",
    "    else:\n",
    "        plt.imshow(np.transpose(npimg, (1, 2, 0)))\n"
   ]
  },
  {
   "cell_type": "code",
   "execution_count": 2,
   "metadata": {},
   "outputs": [],
   "source": [
    "class Net(nn.Module):\n",
    "    def __init__(self):\n",
    "        super(Net, self).__init__()\n",
    "        self.conv1 = nn.Conv2d(1, 6, 5)\n",
    "        self.pool = nn.MaxPool2d(2, 2)\n",
    "        self.conv2 = nn.Conv2d(6, 16, 5)\n",
    "        self.fc1 = nn.Linear(16 * 4 * 4, 120)\n",
    "        self.fc2 = nn.Linear(120, 84)\n",
    "        self.fc3 = nn.Linear(84, 10)\n",
    "\n",
    "    def forward(self, x):\n",
    "        x = self.pool(F.relu(self.conv1(x)))\n",
    "        x = self.pool(F.relu(self.conv2(x)))\n",
    "        x = x.view(-1, 16 * 4 * 4)\n",
    "        x = F.relu(self.fc1(x))\n",
    "        x = F.relu(self.fc2(x))\n",
    "        x = self.fc3(x)\n",
    "        return x\n",
    "\n",
    "\n",
    "net = Net()\n"
   ]
  },
  {
   "cell_type": "code",
   "execution_count": 3,
   "metadata": {},
   "outputs": [],
   "source": [
    "criterion = nn.CrossEntropyLoss()\n",
    "optimizer = optim.SGD(net.parameters(), lr=0.001, momentum=0.9)"
   ]
  },
  {
   "cell_type": "code",
   "execution_count": 4,
   "metadata": {},
   "outputs": [
    {
     "name": "stderr",
     "output_type": "stream",
     "text": [
      "/home/ali/.virtualenvs/py37/lib/python3.7/site-packages/tensorboard/compat/tensorflow_stub/dtypes.py:541: FutureWarning: Passing (type, 1) or '1type' as a synonym of type is deprecated; in a future version of numpy, it will be understood as (type, (1,)) / '(1,)type'.\n",
      "  _np_qint8 = np.dtype([(\"qint8\", np.int8, 1)])\n",
      "/home/ali/.virtualenvs/py37/lib/python3.7/site-packages/tensorboard/compat/tensorflow_stub/dtypes.py:542: FutureWarning: Passing (type, 1) or '1type' as a synonym of type is deprecated; in a future version of numpy, it will be understood as (type, (1,)) / '(1,)type'.\n",
      "  _np_quint8 = np.dtype([(\"quint8\", np.uint8, 1)])\n",
      "/home/ali/.virtualenvs/py37/lib/python3.7/site-packages/tensorboard/compat/tensorflow_stub/dtypes.py:543: FutureWarning: Passing (type, 1) or '1type' as a synonym of type is deprecated; in a future version of numpy, it will be understood as (type, (1,)) / '(1,)type'.\n",
      "  _np_qint16 = np.dtype([(\"qint16\", np.int16, 1)])\n",
      "/home/ali/.virtualenvs/py37/lib/python3.7/site-packages/tensorboard/compat/tensorflow_stub/dtypes.py:544: FutureWarning: Passing (type, 1) or '1type' as a synonym of type is deprecated; in a future version of numpy, it will be understood as (type, (1,)) / '(1,)type'.\n",
      "  _np_quint16 = np.dtype([(\"quint16\", np.uint16, 1)])\n",
      "/home/ali/.virtualenvs/py37/lib/python3.7/site-packages/tensorboard/compat/tensorflow_stub/dtypes.py:545: FutureWarning: Passing (type, 1) or '1type' as a synonym of type is deprecated; in a future version of numpy, it will be understood as (type, (1,)) / '(1,)type'.\n",
      "  _np_qint32 = np.dtype([(\"qint32\", np.int32, 1)])\n",
      "/home/ali/.virtualenvs/py37/lib/python3.7/site-packages/tensorboard/compat/tensorflow_stub/dtypes.py:550: FutureWarning: Passing (type, 1) or '1type' as a synonym of type is deprecated; in a future version of numpy, it will be understood as (type, (1,)) / '(1,)type'.\n",
      "  np_resource = np.dtype([(\"resource\", np.ubyte, 1)])\n"
     ]
    }
   ],
   "source": [
    "from torch.utils.tensorboard import SummaryWriter\n",
    "\n",
    "# default `log_dir` is \"runs\" - we'll be more specific here\n",
    "writer = SummaryWriter('runs/fashion_mnist_experiment_1')"
   ]
  },
  {
   "cell_type": "code",
   "execution_count": 5,
   "metadata": {},
   "outputs": [
    {
     "data": {
      "image/png": "[encoded data removed]",
      "text/plain": [
       "<Figure size 432x288 with 1 Axes>"
      ]
     },
     "metadata": {
      "needs_background": "light"
     },
     "output_type": "display_data"
    }
   ],
   "source": [
    "# get some random training images\n",
    "dataiter = iter(trainloader)\n",
    "images, labels = dataiter.next()\n",
    "\n",
    "# create grid of images\n",
    "img_grid = torchvision.utils.make_grid(images)\n",
    "\n",
    "# show images\n",
    "matplotlib_imshow(img_grid, one_channel=True)\n",
    "\n",
    "# write to tensorboard\n",
    "writer.add_image('four_fashion_mnist_images', img_grid)\n",
    "writer.add_graph(net, images)\n",
    "writer.close()\n"
   ]
  },
  {
   "cell_type": "code",
   "execution_count": null,
   "metadata": {},
   "outputs": [
    {
     "name": "stdout",
     "output_type": "stream",
     "text": [
      "/home/ali/.virtualenvs/py37/lib/python3.7/site-packages/tensorboard/compat/tensorflow_stub/dtypes.py:541: FutureWarning: Passing (type, 1) or '1type' as a synonym of type is deprecated; in a future version of numpy, it will be understood as (type, (1,)) / '(1,)type'.\n",
      "  _np_qint8 = np.dtype([(\"qint8\", np.int8, 1)])\n",
      "/home/ali/.virtualenvs/py37/lib/python3.7/site-packages/tensorboard/compat/tensorflow_stub/dtypes.py:542: FutureWarning: Passing (type, 1) or '1type' as a synonym of type is deprecated; in a future version of numpy, it will be understood as (type, (1,)) / '(1,)type'.\n",
      "  _np_quint8 = np.dtype([(\"quint8\", np.uint8, 1)])\n",
      "/home/ali/.virtualenvs/py37/lib/python3.7/site-packages/tensorboard/compat/tensorflow_stub/dtypes.py:543: FutureWarning: Passing (type, 1) or '1type' as a synonym of type is deprecated; in a future version of numpy, it will be understood as (type, (1,)) / '(1,)type'.\n",
      "  _np_qint16 = np.dtype([(\"qint16\", np.int16, 1)])\n",
      "/home/ali/.virtualenvs/py37/lib/python3.7/site-packages/tensorboard/compat/tensorflow_stub/dtypes.py:544: FutureWarning: Passing (type, 1) or '1type' as a synonym of type is deprecated; in a future version of numpy, it will be understood as (type, (1,)) / '(1,)type'.\n",
      "  _np_quint16 = np.dtype([(\"quint16\", np.uint16, 1)])\n",
      "/home/ali/.virtualenvs/py37/lib/python3.7/site-packages/tensorboard/compat/tensorflow_stub/dtypes.py:545: FutureWarning: Passing (type, 1) or '1type' as a synonym of type is deprecated; in a future version of numpy, it will be understood as (type, (1,)) / '(1,)type'.\n",
      "  _np_qint32 = np.dtype([(\"qint32\", np.int32, 1)])\n",
      "/home/ali/.virtualenvs/py37/lib/python3.7/site-packages/tensorboard/compat/tensorflow_stub/dtypes.py:550: FutureWarning: Passing (type, 1) or '1type' as a synonym of type is deprecated; in a future version of numpy, it will be understood as (type, (1,)) / '(1,)type'.\n",
      "  np_resource = np.dtype([(\"resource\", np.ubyte, 1)])\n",
      "/home/ali/.virtualenvs/py37/lib/python3.7/site-packages/tensorflow/python/framework/dtypes.py:516: FutureWarning: Passing (type, 1) or '1type' as a synonym of type is deprecated; in a future version of numpy, it will be understood as (type, (1,)) / '(1,)type'.\n",
      "  _np_qint8 = np.dtype([(\"qint8\", np.int8, 1)])\n",
      "/home/ali/.virtualenvs/py37/lib/python3.7/site-packages/tensorflow/python/framework/dtypes.py:517: FutureWarning: Passing (type, 1) or '1type' as a synonym of type is deprecated; in a future version of numpy, it will be understood as (type, (1,)) / '(1,)type'.\n",
      "  _np_quint8 = np.dtype([(\"quint8\", np.uint8, 1)])\n",
      "/home/ali/.virtualenvs/py37/lib/python3.7/site-packages/tensorflow/python/framework/dtypes.py:518: FutureWarning: Passing (type, 1) or '1type' as a synonym of type is deprecated; in a future version of numpy, it will be understood as (type, (1,)) / '(1,)type'.\n",
      "  _np_qint16 = np.dtype([(\"qint16\", np.int16, 1)])\n",
      "/home/ali/.virtualenvs/py37/lib/python3.7/site-packages/tensorflow/python/framework/dtypes.py:519: FutureWarning: Passing (type, 1) or '1type' as a synonym of type is deprecated; in a future version of numpy, it will be understood as (type, (1,)) / '(1,)type'.\n",
      "  _np_quint16 = np.dtype([(\"quint16\", np.uint16, 1)])\n",
      "/home/ali/.virtualenvs/py37/lib/python3.7/site-packages/tensorflow/python/framework/dtypes.py:520: FutureWarning: Passing (type, 1) or '1type' as a synonym of type is deprecated; in a future version of numpy, it will be understood as (type, (1,)) / '(1,)type'.\n",
      "  _np_qint32 = np.dtype([(\"qint32\", np.int32, 1)])\n",
      "/home/ali/.virtualenvs/py37/lib/python3.7/site-packages/tensorflow/python/framework/dtypes.py:525: FutureWarning: Passing (type, 1) or '1type' as a synonym of type is deprecated; in a future version of numpy, it will be understood as (type, (1,)) / '(1,)type'.\n",
      "  np_resource = np.dtype([(\"resource\", np.ubyte, 1)])\n",
      "TensorBoard 1.14.0 at http://ali-ubt:6006/ (Press CTRL+C to quit)\n",
      "I0310 17:45:21.289288 139923161896704 _internal.py:122] ::ffff:127.0.0.1 - - [10/Mar/2020 17:45:21] \"\u001b[37mGET /data/logdir HTTP/1.1\u001b[0m\" 200 -\n",
      "I0310 17:45:21.291335 139922920961792 _internal.py:122] ::ffff:127.0.0.1 - - [10/Mar/2020 17:45:21] \"\u001b[37mGET /data/runs HTTP/1.1\u001b[0m\" 200 -\n",
      "I0310 17:45:21.292524 139923144853248 _internal.py:122] ::ffff:127.0.0.1 - - [10/Mar/2020 17:45:21] \"\u001b[37mGET /data/plugins_listing HTTP/1.1\u001b[0m\" 200 -\n",
      "I0310 17:45:21.375065 139923144853248 _internal.py:122] ::ffff:127.0.0.1 - - [10/Mar/2020 17:45:21] \"\u001b[37mGET /data/logdir HTTP/1.1\u001b[0m\" 200 -\n",
      "I0310 17:45:21.375478 139922920961792 _internal.py:122] ::ffff:127.0.0.1 - - [10/Mar/2020 17:45:21] \"\u001b[37mGET /data/plugin/scalars/tags HTTP/1.1\u001b[0m\" 200 -\n",
      "I0310 17:45:21.443759 139923144853248 _internal.py:122] ::ffff:127.0.0.1 - - [10/Mar/2020 17:45:21] \"\u001b[37mGET /data/logdir HTTP/1.1\u001b[0m\" 200 -\n",
      "I0310 17:45:21.444895 139923161896704 _internal.py:122] ::ffff:127.0.0.1 - - [10/Mar/2020 17:45:21] \"\u001b[37mGET /data/runs HTTP/1.1\u001b[0m\" 200 -\n",
      "I0310 17:45:21.446274 139922920961792 _internal.py:122] ::ffff:127.0.0.1 - - [10/Mar/2020 17:45:21] \"\u001b[37mGET /data/plugins_listing HTTP/1.1\u001b[0m\" 200 -\n",
      "I0310 17:45:21.476321 139923144853248 _internal.py:122] ::ffff:127.0.0.1 - - [10/Mar/2020 17:45:21] \"\u001b[37mGET /data/plugin/scalars/tags HTTP/1.1\u001b[0m\" 200 -\n",
      "W0310 17:45:24.773911 139923144853248 application.py:351] path /data/plugin/graphs/runs not found, sending 404\n",
      "W0310 17:45:24.774699 139923161896704 application.py:351] path /data/plugin/graphs/run_metadata_tags not found, sending 404\n",
      "I0310 17:45:24.775784 139923161896704 _internal.py:122] ::ffff:127.0.0.1 - - [10/Mar/2020 17:45:24] \"\u001b[33mGET /data/plugin/graphs/run_metadata_tags HTTP/1.1\u001b[0m\" 404 -\n",
      "I0310 17:45:24.776862 139923144853248 _internal.py:122] ::ffff:127.0.0.1 - - [10/Mar/2020 17:45:24] \"\u001b[33mGET /data/plugin/graphs/runs HTTP/1.1\u001b[0m\" 404 -\n",
      "I0310 17:45:24.778403 139922920961792 _internal.py:122] ::ffff:127.0.0.1 - - [10/Mar/2020 17:45:24] \"\u001b[37mGET /data/plugins_listing HTTP/1.1\u001b[0m\" 200 -\n",
      "W0310 17:45:24.782502 139922920961792 application.py:351] path /data/plugin/graphs/run_metadata_tags not found, sending 404\n",
      "W0310 17:45:24.783088 139923144853248 application.py:351] path /data/plugin/graphs/runs not found, sending 404\n",
      "I0310 17:45:24.783340 139922920961792 _internal.py:122] ::ffff:127.0.0.1 - - [10/Mar/2020 17:45:24] \"\u001b[33mGET /data/plugin/graphs/run_metadata_tags HTTP/1.1\u001b[0m\" 404 -\n",
      "I0310 17:45:24.783680 139923144853248 _internal.py:122] ::ffff:127.0.0.1 - - [10/Mar/2020 17:45:24] \"\u001b[33mGET /data/plugin/graphs/runs HTTP/1.1\u001b[0m\" 404 -\n",
      "W0310 17:45:24.845447 139923144853248 application.py:351] path /data/plugin/graphs/runs not found, sending 404\n",
      "I0310 17:45:24.846754 139923144853248 _internal.py:122] ::ffff:127.0.0.1 - - [10/Mar/2020 17:45:24] \"\u001b[33mGET /data/plugin/graphs/runs HTTP/1.1\u001b[0m\" 404 -\n",
      "W0310 17:45:24.848660 139922920961792 application.py:351] path /data/plugin/graphs/run_metadata_tags not found, sending 404\n",
      "I0310 17:45:24.849621 139922920961792 _internal.py:122] ::ffff:127.0.0.1 - - [10/Mar/2020 17:45:24] \"\u001b[33mGET /data/plugin/graphs/run_metadata_tags HTTP/1.1\u001b[0m\" 404 -\n",
      "W0310 17:45:24.902716 139923144853248 application.py:351] path /data/plugin/graphs/runs not found, sending 404\n",
      "W0310 17:45:24.904108 139922920961792 application.py:351] path /data/plugin/graphs/run_metadata_tags not found, sending 404\n",
      "I0310 17:45:24.904852 139923144853248 _internal.py:122] ::ffff:127.0.0.1 - - [10/Mar/2020 17:45:24] \"\u001b[33mGET /data/plugin/graphs/runs HTTP/1.1\u001b[0m\" 404 -\n",
      "I0310 17:45:24.905887 139922920961792 _internal.py:122] ::ffff:127.0.0.1 - - [10/Mar/2020 17:45:24] \"\u001b[33mGET /data/plugin/graphs/run_metadata_tags HTTP/1.1\u001b[0m\" 404 -\n",
      "W0310 18:14:50.406036 139923170289408 plugin_event_multiplexer.py:244] Deleting accumulator 'fashion_mnist_experiment_1'\n",
      "W0311 12:57:58.807709 139923170289408 plugin_event_accumulator.py:294] Found more than one graph event per run, or there was a metagraph containing a graph_def, as well as one or more graph events.  Overwriting the graph with the newest event.\n",
      "W0311 12:57:58.808386 139923170289408 plugin_event_accumulator.py:322] Found more than one \"run metadata\" event with tag step1. Overwriting it with the newest event.\n",
      "W0311 13:01:04.142883 139923170289408 plugin_event_accumulator.py:294] Found more than one graph event per run, or there was a metagraph containing a graph_def, as well as one or more graph events.  Overwriting the graph with the newest event.\n",
      "W0311 13:01:04.143449 139923170289408 plugin_event_accumulator.py:322] Found more than one \"run metadata\" event with tag step1. Overwriting it with the newest event.\n"
     ]
    },
    {
     "name": "stdout",
     "output_type": "stream",
     "text": [
      "W0311 13:07:14.808118 139923170289408 plugin_event_accumulator.py:294] Found more than one graph event per run, or there was a metagraph containing a graph_def, as well as one or more graph events.  Overwriting the graph with the newest event.\n",
      "W0311 13:07:14.808504 139923170289408 plugin_event_accumulator.py:322] Found more than one \"run metadata\" event with tag step1. Overwriting it with the newest event.\n",
      "E0311 13:11:15.317595 139923170289408 directory_watcher.py:239] File /home/ali/00_2020/Mach_2020/runs/fashion_mnist_experiment_1/events.out.tfevents.1583946670.ali-ubt.21194.11 created after file /home/ali/00_2020/Mach_2020/runs/fashion_mnist_experiment_1/events.out.tfevents.1583946670.ali-ubt.21194.9 even though it's lexicographically earlier\n",
      "W0311 13:21:03.945877 139923170289408 plugin_event_multiplexer.py:244] Deleting accumulator 'fashion_mnist_experiment_1'\n",
      "W0311 13:26:28.136672 139923170289408 plugin_event_multiplexer.py:244] Deleting accumulator 'fashion_mnist_experiment_1'\n",
      "W0311 13:29:08.381189 139923170289408 plugin_event_accumulator.py:294] Found more than one graph event per run, or there was a metagraph containing a graph_def, as well as one or more graph events.  Overwriting the graph with the newest event.\n",
      "W0311 13:29:08.381418 139923170289408 plugin_event_accumulator.py:322] Found more than one \"run metadata\" event with tag step1. Overwriting it with the newest event.\n",
      "W0311 13:33:33.836541 139923170289408 plugin_event_accumulator.py:294] Found more than one graph event per run, or there was a metagraph containing a graph_def, as well as one or more graph events.  Overwriting the graph with the newest event.\n",
      "W0311 13:33:33.836682 139923170289408 plugin_event_accumulator.py:322] Found more than one \"run metadata\" event with tag step1. Overwriting it with the newest event.\n",
      "W0311 13:33:33.837606 139923170289408 plugin_event_multiplexer.py:244] Deleting accumulator 'bie=rd_eyeview_experiment_1'\n",
      "W0311 13:34:23.911408 139923170289408 plugin_event_accumulator.py:294] Found more than one graph event per run, or there was a metagraph containing a graph_def, as well as one or more graph events.  Overwriting the graph with the newest event.\n",
      "W0311 13:34:23.911597 139923170289408 plugin_event_accumulator.py:322] Found more than one \"run metadata\" event with tag step1. Overwriting it with the newest event.\n",
      "W0311 13:35:39.047945 139923170289408 plugin_event_multiplexer.py:244] Deleting accumulator 'bie=rd_eyeview_experiment_1'\n",
      "W0311 13:40:04.505951 139923170289408 plugin_event_multiplexer.py:244] Deleting accumulator 'bie=rd_eyeview_experiment_1'\n",
      "W0311 13:50:46.242122 139923170289408 plugin_event_multiplexer.py:244] Deleting accumulator 'bie=rd_eyeview_experiment_1'\n",
      "W0311 13:53:07.540521 139923170289408 plugin_event_accumulator.py:294] Found more than one graph event per run, or there was a metagraph containing a graph_def, as well as one or more graph events.  Overwriting the graph with the newest event.\n",
      "W0311 13:53:07.540732 139923170289408 plugin_event_accumulator.py:322] Found more than one \"run metadata\" event with tag step1. Overwriting it with the newest event.\n",
      "W0311 13:53:17.559910 139923170289408 plugin_event_multiplexer.py:244] Deleting accumulator 'bie=rd_eyeview_experiment_1'\n",
      "W0311 14:06:45.547549 139923170289408 plugin_event_multiplexer.py:244] Deleting accumulator 'bie=rd_eyeview_experiment_1'\n",
      "W0311 14:19:48.673720 139923170289408 plugin_event_accumulator.py:294] Found more than one graph event per run, or there was a metagraph containing a graph_def, as well as one or more graph events.  Overwriting the graph with the newest event.\n",
      "W0311 14:19:48.674286 139923170289408 plugin_event_accumulator.py:322] Found more than one \"run metadata\" event with tag step1. Overwriting it with the newest event.\n",
      "W0311 14:26:04.508839 139923170289408 plugin_event_accumulator.py:294] Found more than one graph event per run, or there was a metagraph containing a graph_def, as well as one or more graph events.  Overwriting the graph with the newest event.\n",
      "W0311 14:26:04.509002 139923170289408 plugin_event_accumulator.py:322] Found more than one \"run metadata\" event with tag step1. Overwriting it with the newest event.\n"
     ]
    }
   ],
   "source": [
    "!tensorboard --logdir=runs"
   ]
  }
 ],
 "metadata": {
  "kernelspec": {
   "display_name": "py37",
   "language": "python",
   "name": "py37"
  },
  "language_info": {
   "codemirror_mode": {
    "name": "ipython",
    "version": 3
   },
   "file_extension": ".py",
   "mimetype": "text/x-python",
   "name": "python",
   "nbconvert_exporter": "python",
   "pygments_lexer": "ipython3",
   "version": "3.7.6"
  }
 },
 "nbformat": 4,
 "nbformat_minor": 2
}
